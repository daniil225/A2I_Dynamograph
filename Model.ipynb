{
 "cells": [
  {
   "cell_type": "code",
   "execution_count": 2,
   "metadata": {},
   "outputs": [],
   "source": [
    "# Проиндексировать файлы и добавить их в БД \n",
    "\n",
    "from Core.DB_manager import *\n",
    "\n",
    "file_indexing(data=\"data\", base_name=\"origin_data\")\n",
    "file_indexing(data=\"lufkin_dino\", base_name=\"lufkin_dino\")\n",
    "file_indexing(data=\"dino\", base_name=\"usov_dino\")\n"
   ]
  }
 ],
 "metadata": {
  "kernelspec": {
   "display_name": "Python 3",
   "language": "python",
   "name": "python3"
  },
  "language_info": {
   "codemirror_mode": {
    "name": "ipython",
    "version": 3
   },
   "file_extension": ".py",
   "mimetype": "text/x-python",
   "name": "python",
   "nbconvert_exporter": "python",
   "pygments_lexer": "ipython3",
   "version": "3.11.9"
  }
 },
 "nbformat": 4,
 "nbformat_minor": 2
}
