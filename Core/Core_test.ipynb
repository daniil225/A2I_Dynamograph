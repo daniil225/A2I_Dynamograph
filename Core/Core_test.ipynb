{
 "cells": [
  {
   "cell_type": "code",
   "execution_count": 50,
   "metadata": {},
   "outputs": [],
   "source": [
    "# Дополнительные библиотеки\n",
    "\n",
    "# Графическое отображение различных динамограмм\n",
    "%matplotlib widget\n",
    "from matplotlib import pyplot as plt\n",
    "from matplotlib import gridspec\n",
    "from ipywidgets import Dropdown\n",
    "from IPython.display import display\n",
    "from ipywidgets import interact, IntSlider, widgets, FloatSlider\n",
    "from itables import show\n",
    "import numpy as np\n",
    "import pandas as pd\n",
    "\n",
    "\n",
    "# Core modules\n",
    "from DataLoader import *\n",
    "from DinoStruct import *\n",
    "from const import *\n",
    "from Interpolation import *\n",
    "from MakeDino import *\n",
    "\n",
    "# Генерация пути до данных \n",
    "def GenPath(base, num):\n",
    "    return base + str(num) + \".txt\"\n",
    "\n",
    "def GenerateSrcPathData(base, start, end):\n",
    "    return [GenPath(base, i) for i in range(start, end+1)]\n",
    "    "
   ]
  },
  {
   "cell_type": "code",
   "execution_count": 51,
   "metadata": {},
   "outputs": [],
   "source": [
    "# Блок настройки выбора исходных данных для динамограмм\n",
    "base_path_from = 0\n",
    "base_path_idx = [[1, 4]]\n",
    "base_paths = [\"../tmp_data/data\"]\n",
    "base_path = base_paths[base_path_from]\n",
    "start_mydino = base_path_idx[base_path_from][0]\n",
    "end_mydino = base_path_idx[base_path_from][1]\n",
    "\n",
    "\n",
    "# Блок настройки выбора исходных данных динамограмм\n",
    "base_path_from_dino = 0\n",
    "base_path_idx_dino = [[1,4], [1,4]]\n",
    "\n",
    "base_path_dinos = [\"../tmp_data/dino\", \"../tmp_data/dino_lufkin\"]\n",
    "base_path_dino = base_path_dinos[base_path_from_dino]\n",
    "start_dino = base_path_idx_dino[base_path_from_dino][0]\n",
    "end_dino = base_path_idx_dino[base_path_from_dino][1]\n",
    "\n"
   ]
  },
  {
   "cell_type": "code",
   "execution_count": 52,
   "metadata": {},
   "outputs": [],
   "source": [
    "def UI_LoadMyDinos(start, end,PolishRoadMathModel = 2 ,LoadErrorCoef = 0.03, PolishRoadMovementErrorCoef = 0.0001):\n",
    "\n",
    "    Dinos = [MakeDino(base_path_i, SKParam(), PolishRoadMathModel, LoadErrorCoef, PolishRoadMovementErrorCoef, True, 2) for base_path_i in GenerateSrcPathData(base_path, start,end)]\n",
    "    return Dinos\n",
    "\n",
    "def UI_LoadDinos(start, end):\n",
    "    DinosUsov_Lafkin = [LoadDinoData(base_path_i, 2, 2) for base_path_i in GenerateSrcPathData(base_path_dino, start, end)]\n",
    "    return DinosUsov_Lafkin\n",
    "\n",
    "# Подгрузил свои динамограммы и сформировал их \n",
    "LoadErrorCoef = 0.03 # Уровень ошибки для динамограммы\n",
    "PolishRoadMovementErrorCoef = 0.001\n",
    "PolishRoadMathModel = 1\n",
    "Dinos =  UI_LoadMyDinos(start_mydino, end_mydino, PolishRoadMathModel, LoadErrorCoef, PolishRoadMovementErrorCoef)\n",
    "\n",
    "# Загрузка уже готовых динамограмм от лафкина или Усова\n",
    "DinosUsov_Lafkin = UI_LoadDinos(start_dino, end_dino)\n",
    "\n",
    "#for Din in DinosUsov_Lafkin:\n",
    "# # #     Din.PolishRoadMovement.reverse()\n",
    "    #Din.PolishRoadMovement = Din.PolishRoadMovement[-3:] + Din.PolishRoadMovement[:-3]\n",
    "\n",
    "\n",
    "def TableShow(idx):\n",
    "    show(Dinos[idx].DinoData.MyDinoData2DinoData().TablePrint())\n",
    "\n",
    "def TableShowUsovLafkin(idx):\n",
    "    show(DinosUsov_Lafkin[idx].TablePrint())\n",
    "\n"
   ]
  },
  {
   "cell_type": "code",
   "execution_count": 53,
   "metadata": {},
   "outputs": [],
   "source": [
    "base_path_dino = base_path_dinos[1]\n",
    "def UI_LoadDinos(start, end):\n",
    "    D = [LoadDinoData(base_path_i, 2, 2) for base_path_i in GenerateSrcPathData(base_path_dino, start, end)]\n",
    "    return D\n",
    "\n",
    "Dinos_Lafkin = UI_LoadDinos(start_dino, end_dino)\n",
    "for Din in Dinos_Lafkin:\n",
    "    #Din.RavTimeGrid = [t + 0.20 for t in Din.RavTimeGrid]\n",
    "    Din.Load = [1.1*l - 0.1 for l in Din.Load]\n",
    "    \n",
    "    Din.Load = Din.Load[2:] + Din.Load[:2]\n",
    "    Din.PolishRoadMovement = Din.PolishRoadMovement[3:] + Din.PolishRoadMovement[:3]\n",
    "\n",
    "\n",
    "def TableShowLafkin(idx):\n",
    "    show(Dinos_Lafkin[idx].TablePrint())\n",
    "\n",
    "\n",
    "\n"
   ]
  },
  {
   "cell_type": "code",
   "execution_count": 54,
   "metadata": {},
   "outputs": [
    {
     "name": "stdout",
     "output_type": "stream",
     "text": [
      "Мои динамограммы \n",
      "base path =  ../tmp_data/data\n",
      "Загрузили динамограммы с  1  по  4\n"
     ]
    },
    {
     "data": {
      "application/vnd.jupyter.widget-view+json": {
       "model_id": "5b09770a5e2b4ac38f658fda0924fbbb",
       "version_major": 2,
       "version_minor": 0
      },
      "text/plain": [
       "interactive(children=(IntSlider(value=1, description='idx', max=3), Output()), _dom_classes=('widget-interact'…"
      ]
     },
     "metadata": {},
     "output_type": "display_data"
    },
    {
     "name": "stdout",
     "output_type": "stream",
     "text": [
      "Динамограммы Усова\n",
      "base path =  ../tmp_data/dino_lufkin\n",
      "Загрузили динамограммы с  1  по  4\n"
     ]
    },
    {
     "data": {
      "application/vnd.jupyter.widget-view+json": {
       "model_id": "0ff47167df6b412592e9f9419396e612",
       "version_major": 2,
       "version_minor": 0
      },
      "text/plain": [
       "interactive(children=(IntSlider(value=1, description='idx', max=3), Output()), _dom_classes=('widget-interact'…"
      ]
     },
     "metadata": {},
     "output_type": "display_data"
    },
    {
     "name": "stdout",
     "output_type": "stream",
     "text": [
      "Динамограммы Лафкин\n",
      "base path =  ../tmp_data/dino_lufkin\n",
      "Загрузили динамограммы с  1  по  4\n"
     ]
    },
    {
     "data": {
      "application/vnd.jupyter.widget-view+json": {
       "model_id": "2ed74e37d20649988acaf39abe3c2e27",
       "version_major": 2,
       "version_minor": 0
      },
      "text/plain": [
       "interactive(children=(IntSlider(value=1, description='idx', max=3), Output()), _dom_classes=('widget-interact'…"
      ]
     },
     "metadata": {},
     "output_type": "display_data"
    },
    {
     "data": {
      "text/plain": [
       "<function __main__.TableShowLafkin(idx)>"
      ]
     },
     "execution_count": 54,
     "metadata": {},
     "output_type": "execute_result"
    }
   ],
   "source": [
    "# Таблица усилий и перемещений \n",
    "\n",
    "print(\"Мои динамограммы \\nbase path = \", base_path)\n",
    "print(\"Загрузили динамограммы с \", start_mydino, \" по \", end_mydino)\n",
    "interact(TableShow, idx = (start_mydino-1, end_mydino-1, 1))\n",
    "\n",
    "print(\"Динамограммы Усова\\nbase path = \", base_path_dino)\n",
    "print(\"Загрузили динамограммы с \", start_dino, \" по \", end_dino)\n",
    "interact(TableShowUsovLafkin, idx = (start_dino-1, end_dino-1, 1))\n",
    "\n",
    "\n",
    "print(\"Динамограммы Лафкин\\nbase path = \", base_path_dino)\n",
    "print(\"Загрузили динамограммы с \", start_dino, \" по \", end_dino)\n",
    "interact(TableShowLafkin, idx = (start_dino-1, end_dino-1, 1))\n"
   ]
  },
  {
   "cell_type": "code",
   "execution_count": 55,
   "metadata": {},
   "outputs": [],
   "source": [
    "def PrintDinoMyAndUsov(_start_mydino, _end_mydino, start_u_l_dino, end_u_l_din, title=\"Usov Data\"):\n",
    "\n",
    "    fig = plt.figure()\n",
    "    \n",
    "    # to change size of subplot's\n",
    "    # set height of each subplot as 8\n",
    "    fig.set_figheight(7)\n",
    "    \n",
    "    # set width of each subplot as 8\n",
    "    fig.set_figwidth(15)\n",
    "    \n",
    "    # create grid for different subplots\n",
    "    spec = gridspec.GridSpec(ncols=1, nrows=1, wspace=1.0, hspace=1.0)\n",
    "    ax = fig.add_subplot(spec[0])\n",
    "    \n",
    "    ax.set_title(\"Динамограммы\")\n",
    "    ax.set_xlabel(\"Перемещение нормированное\")\n",
    "    ax.set_ylabel(\"Усилие, нормированное\")\n",
    "    line1, line2,line3 = None, None, None\n",
    "    \n",
    "    for i in range(_start_mydino, _end_mydino):\n",
    "        Dino = Dinos[i]\n",
    "        line1, = ax.plot(Dino.DinoData.PolishRoadMovement, Dino.DinoData.Load, color='red')\n",
    "        #print(\"My dino from file: \", i+1, \": \",Dino.DinoData.Load)\n",
    "\n",
    "    for i in range(start_u_l_dino, end_u_l_din):\n",
    "        line2, = ax.plot(DinosUsov_Lafkin[i].PolishRoadMovement, DinosUsov_Lafkin[i].Load, color='blue')\n",
    "    \n",
    "    \n",
    "    for i in range(start_u_l_dino, end_u_l_din):\n",
    "        Dinos_Lafkin[i].PolishRoadMovement.reverse()\n",
    "        Dinos_Lafkin[i].Load.reverse()\n",
    "        line3, = ax.plot(Dinos_Lafkin[i].PolishRoadMovement, Dinos_Lafkin[i].Load, color='green')\n",
    "    \n",
    "\n",
    "    ax.legend([line1, line2, line3], [\"Динамограмма построенная по Схеме Эйтейкена\",\"Динамограмма \" + title, \"Динамограмма Lufkin\"])\n",
    "    plt.show()\n",
    "\n",
    "\n",
    "def PrintMyFPolRoadandUsovLafkinFPolRoad(_start_mydino, _end_mydino, start_u_l_dino, end_u_l_din, title=\"Usov Data\"):\n",
    "    # create a figure\n",
    "    fig = plt.figure()\n",
    "    \n",
    "    # to change size of subplot's\n",
    "    # set height of each subplot as 8\n",
    "    fig.set_figheight(7)\n",
    "    \n",
    "    # set width of each subplot as 8\n",
    "    fig.set_figwidth(15)\n",
    "    \n",
    "    # create grid for different subplots\n",
    "    spec = gridspec.GridSpec(ncols=1, nrows=2, wspace=1.0, hspace=1.0)\n",
    "    \n",
    "    line1, line2,line3 = None, None, None\n",
    "    # initializing x,y axis value\n",
    "\n",
    "    ax0 = fig.add_subplot(spec[0])\n",
    "    ax1 = fig.add_subplot(spec[1])\n",
    "\n",
    "    # Усилие сравниваем \n",
    "    for i in range(_start_mydino, _end_mydino):\n",
    "        Dino = Dinos[i]\n",
    "        line1, = ax0.plot(Dino.DinoData.RavTimeGrid, Dino.DinoData.Load, color='red')\n",
    "\n",
    "        #arr = [Dino._CalcF(Dino.DinoData.OrigData.TimeGrid[i])[0] - Dino.DinoData.OrigData.Load[i] for i in range(0, len(Dino.DinoData.OrigData.Load))]\n",
    "        \n",
    "        #for a in arr:\n",
    "        #    print('{0:.16f}'.format(a))\n",
    "        #line3, =  ax0.plot(Dino.DinoData.OrigData.TimeGrid, Dino.DinoData.OrigData.Load , 'go')\n",
    "\n",
    "    for i in range(start_u_l_dino, end_u_l_din):\n",
    "        line2, = ax0.plot(DinosUsov_Lafkin[i].RavTimeGrid, DinosUsov_Lafkin[i].Load, color='blue')\n",
    "    \n",
    "    for i in range(start_u_l_dino, end_u_l_din):\n",
    "       \n",
    "        line3, = ax0.plot(Dinos_Lafkin[i].RavTimeGrid, Dinos_Lafkin[i].Load, color='green')\n",
    "    \n",
    "    \n",
    "\n",
    "    ax0.legend([line1, line2, line3], [\"Усилие построенная по Схеме Эйтейкена\",\"Усилие из динамограмм \" + title, \"Усилие из динамограмм Lufkin\"])\n",
    "    ax0.set_xlabel(\"Время [c]\")\n",
    "    ax0.set_ylabel(\"Усилие нормированное\")\n",
    "\n",
    "    # Перемещение \n",
    "    for i in range(_start_mydino, _end_mydino):\n",
    "        Dino = Dinos[i]\n",
    "        \n",
    "        line1, = ax1.plot(Dino.DinoData.RavTimeGrid, Dino.DinoData.PolishRoadMovement, color='red')\n",
    "\n",
    "    for i in range(start_u_l_dino, end_u_l_din):\n",
    "        line2, = ax1.plot(DinosUsov_Lafkin[i].RavTimeGrid, DinosUsov_Lafkin[i].PolishRoadMovement, color='blue')\n",
    "    \n",
    "    for i in range(start_u_l_dino, end_u_l_din):\n",
    "        \n",
    "        line3, = ax1.plot(Dinos_Lafkin[i].RavTimeGrid, Dinos_Lafkin[i].PolishRoadMovement, color='green')\n",
    "    \n",
    "\n",
    "    ax1.legend([line1, line2, line3], [\"Перемещение построенная по Схеме Эйтейкена\",\"Перемещение из динамограмм \" + title, \"Перемещение из динамограмм Lufkin\"])\n",
    "    ax1.set_xlabel(\"Время [c]\")\n",
    "    ax1.set_ylabel(\"Перемещение нормированное\")\n",
    "    \n",
    "    plt.show()\n",
    "\n"
   ]
  },
  {
   "cell_type": "code",
   "execution_count": 56,
   "metadata": {},
   "outputs": [
    {
     "name": "stdout",
     "output_type": "stream",
     "text": [
      "Отобразим наложенные динамограммы мои/Усова(Лафкин)\n",
      "\n",
      "Данные взяты из папки  ../tmp_data/data\n",
      "Данные для динамограмм из папки  ../tmp_data/dino_lufkin\n"
     ]
    },
    {
     "data": {
      "application/vnd.jupyter.widget-view+json": {
       "model_id": "83a9c0b4680c4d4cab4e4f43d83b1610",
       "version_major": 2,
       "version_minor": 0
      },
      "text/plain": [
       "interactive(children=(IntSlider(value=0, description='_start_mydino', max=3), IntSlider(value=4, description='…"
      ]
     },
     "metadata": {},
     "output_type": "display_data"
    },
    {
     "name": "stdout",
     "output_type": "stream",
     "text": [
      "Отобразим наложенные усилия и перемещения мои/Усова(Лафкин)\n",
      "\n",
      "Данные взяты из папки  ../tmp_data/data\n",
      "Данные для динамограмм из папки  ../tmp_data/dino_lufkin\n"
     ]
    },
    {
     "data": {
      "application/vnd.jupyter.widget-view+json": {
       "model_id": "61e35388438344ca85f2b6deade8e460",
       "version_major": 2,
       "version_minor": 0
      },
      "text/plain": [
       "interactive(children=(IntSlider(value=0, description='_start_mydino', max=3), IntSlider(value=4, description='…"
      ]
     },
     "metadata": {},
     "output_type": "display_data"
    },
    {
     "data": {
      "text/plain": [
       "<function __main__.PrintMyFPolRoadandUsovLafkinFPolRoad(_start_mydino, _end_mydino, start_u_l_dino, end_u_l_din, title='Usov Data')>"
      ]
     },
     "execution_count": 56,
     "metadata": {},
     "output_type": "execute_result"
    }
   ],
   "source": [
    "# Отобразим наложенные динамограммы мои/Усова(Лафкин)\n",
    "print(\"Отобразим наложенные динамограммы мои/Усова(Лафкин)\\n\")\n",
    "print(\"Данные взяты из папки \", base_path, )\n",
    "print(\"Данные для динамограмм из папки \", base_path_dino)\n",
    "interact(PrintDinoMyAndUsov,_start_mydino = IntSlider(value=0,min=start_mydino-1, max=end_mydino-1, step=1),\n",
    "                                            _end_mydino=IntSlider(value=4,min=start_mydino-1, max=end_mydino, step=1),\n",
    "                                            start_u_l_dino = IntSlider(value=0,min=start_dino-1, max=end_dino-1, step=1),\n",
    "                                            end_u_l_din= IntSlider(value=4,min=start_dino-1, max=end_dino, step=1),\n",
    "                                            title = Dropdown(options=[('Усова'), ('Lafkin')], value='Усова'))\n",
    "\n",
    "\n",
    "# Сравнение графиков усилия мои/Усова(Лафкин) и графиков перемещения мои/Усова(Лафкин)\n",
    "print(\"Отобразим наложенные усилия и перемещения мои/Усова(Лафкин)\\n\")\n",
    "print(\"Данные взяты из папки \", base_path, )\n",
    "print(\"Данные для динамограмм из папки \", base_path_dino)\n",
    "interact(PrintMyFPolRoadandUsovLafkinFPolRoad,_start_mydino = IntSlider(value=0,min=start_mydino-1, max=end_mydino-1, step=1),\n",
    "                                            _end_mydino=IntSlider(value=4,min=start_mydino-1, max=end_mydino, step=1),\n",
    "                                            start_u_l_dino = IntSlider(value=0,min=start_dino-1, max=end_dino-1, step=1),\n",
    "                                            end_u_l_din= IntSlider(value=4,min=start_dino-1, max=end_dino, step=1),\n",
    "                                            title = Dropdown(options=[('Усова'), ('Lafkin')], value='Усова'))"
   ]
  }
 ],
 "metadata": {
  "kernelspec": {
   "display_name": "Python 3",
   "language": "python",
   "name": "python3"
  },
  "language_info": {
   "codemirror_mode": {
    "name": "ipython",
    "version": 3
   },
   "file_extension": ".py",
   "mimetype": "text/x-python",
   "name": "python",
   "nbconvert_exporter": "python",
   "pygments_lexer": "ipython3",
   "version": "3.11.9"
  }
 },
 "nbformat": 4,
 "nbformat_minor": 2
}
