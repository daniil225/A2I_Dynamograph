{
 "cells": [
  {
   "cell_type": "code",
   "execution_count": 1,
   "metadata": {},
   "outputs": [
    {
     "name": "stdout",
     "output_type": "stream",
     "text": [
      "     Нагрузка [ft]  Перемещение [inch]  Время [c]\n",
      "0          1718.66                0.00       0.00\n",
      "1          1708.23                0.00       0.08\n",
      "2          1698.70                0.01       0.17\n",
      "3          1691.90                0.01       0.25\n",
      "4          1698.25                0.02       0.33\n",
      "..             ...                 ...        ...\n",
      "195        2033.45                0.02      16.29\n",
      "196        1901.91                0.01      16.37\n",
      "197        1757.67                0.01      16.45\n",
      "198        1721.84                0.00      16.54\n",
      "199        1718.66                0.00      16.62\n",
      "\n",
      "[200 rows x 3 columns]\n"
     ]
    }
   ],
   "source": [
    "# Дополнительные библиотеки\n",
    "\n",
    "# Графическое отображение различных динамограмм\n",
    "%matplotlib widget\n",
    "from matplotlib import pyplot as plt\n",
    "from matplotlib import gridspec\n",
    "from ipywidgets import Dropdown\n",
    "from IPython.display import display\n",
    "from ipywidgets import interact, IntSlider, widgets, FloatSlider\n",
    "from itables import show\n",
    "import numpy as np\n",
    "import pandas as pd\n",
    "\n",
    "\n",
    "# Core modules\n",
    "from DataLoader import *\n",
    "from DinoStruct import *\n",
    "from const import *\n",
    "from Interpolation import *\n",
    "from MakeDino import *\n",
    "\n",
    "# Генерация пути до данных \n",
    "def GenPath(base, num):\n",
    "    return base + str(num) + \".txt\"\n",
    "\n",
    "def GenerateSrcPathData(base, start, end):\n",
    "    return [GenPath(base, i) for i in range(start, end+1)]\n",
    "    "
   ]
  },
  {
   "cell_type": "code",
   "execution_count": 10,
   "metadata": {},
   "outputs": [],
   "source": [
    "#  Генерация тестов для МК\n",
    "import re\n",
    "# Выведем данные в с формате массива\n",
    "\n",
    "base_filename = \"../tmp_data/data\"\n",
    "\n",
    "f = open(\"test.txt\", 'w+')\n",
    "\n",
    "def GenTest(TestNum):\n",
    "    filename = base_filename + str(TestNum) + \".txt\"\n",
    "    Orig_dat:OriginalDinoData = LoadOriginalDinoData(filename, False, 0)\n",
    "    f.write(\"A2I_DinoForm_TestCase Test{0}= \\n\".format(TestNum))\n",
    "    f.write(\"{\\n\")\n",
    "    f_str = \"   .in_Load = {\"\n",
    "    for e in Orig_dat.Load:\n",
    "        f_str += str(e) + \",\" \n",
    "    f_str = re.sub(\",$\", \"},\\n\", f_str)\n",
    "    f.write(f_str)\n",
    "\n",
    "    f_str = \"   .in_TimeGrid  = {\"\n",
    "    for e in Orig_dat.TimeIntervals:\n",
    "        f_str += str(e) + \",\" \n",
    "    f_str = re.sub(\",$\", \"},\\n\", f_str)\n",
    "    f.write(f_str)\n",
    "    \n",
    "    f_str = \"   .in_size  = {0},\\n\".format(Orig_dat.DataSize)\n",
    "    f.write(f_str)\n",
    "\n",
    "    # Строим динамограмму \n",
    "    Dino:MakeDino =  MakeDino(filename, SKParam(), 1, 0.003, 0.003, True, 1)\n",
    "    \n",
    "    f_str = \"   .out_Load = {\"\n",
    "    for e in Dino.DinoData.Load:\n",
    "        f_str += \"{0:0.4f},\".format(e*KG2FT) \n",
    "    f_str = re.sub(\",$\", \"},\\n\", f_str)\n",
    "    f.write(f_str)\n",
    "    \n",
    "    \n",
    "    f_str = \"   .out_Position = {\"\n",
    "    for e in Dino.DinoData.PolishRoadMovement:\n",
    "        f_str += \"{0:0.4f},\".format(e) \n",
    "    f_str = re.sub(\",$\", \"}\\n\", f_str)\n",
    "    f.write(f_str)\n",
    "    f.write(\"};\\n\\n\")\n",
    "\n",
    "\n",
    "for i in range(1, 5):\n",
    "    GenTest(i)\n",
    "\n",
    "f.close()"
   ]
  },
  {
   "cell_type": "code",
   "execution_count": 3,
   "metadata": {},
   "outputs": [],
   "source": [
    "# Блок настройки выбора исходных данных для динамограмм\n",
    "base_path_from = 0\n",
    "base_path_idx = [[1, 4]]\n",
    "base_paths = [\"../tmp_data/data\"]\n",
    "base_path = base_paths[base_path_from]\n",
    "start_mydino = base_path_idx[base_path_from][0]\n",
    "end_mydino = base_path_idx[base_path_from][1]\n",
    "\n",
    "\n",
    "# Блок настройки выбора исходных данных динамограмм\n",
    "base_path_from_dino = 0\n",
    "base_path_idx_dino = [[1,4], [1,4]]\n",
    "\n",
    "base_path_dinos = [\"../tmp_data/dino\", \"../tmp_data/dino_lufkin\"]\n",
    "base_path_dino = base_path_dinos[base_path_from_dino]\n",
    "start_dino = base_path_idx_dino[base_path_from_dino][0]\n",
    "end_dino = base_path_idx_dino[base_path_from_dino][1]\n",
    "\n"
   ]
  },
  {
   "cell_type": "code",
   "execution_count": 4,
   "metadata": {},
   "outputs": [],
   "source": [
    "def UI_LoadMyDinos(start, end,PolishRoadMathModel = 2 ,LoadErrorCoef = 0.03, PolishRoadMovementErrorCoef = 0.0001):\n",
    "\n",
    "    Dinos = [MakeDino(base_path_i, SKParam(), PolishRoadMathModel, LoadErrorCoef, PolishRoadMovementErrorCoef, True, 2) for base_path_i in GenerateSrcPathData(base_path, start,end)]\n",
    "    return Dinos\n",
    "\n",
    "def UI_LoadDinos(start, end):\n",
    "    DinosUsov_Lafkin = [LoadDinoData(base_path_i, 2, 2) for base_path_i in GenerateSrcPathData(base_path_dino, start, end)]\n",
    "    return DinosUsov_Lafkin\n",
    "\n",
    "# Подгрузил свои динамограммы и сформировал их \n",
    "LoadErrorCoef = 0.03 # Уровень ошибки для динамограммы\n",
    "PolishRoadMovementErrorCoef = 0.001\n",
    "PolishRoadMathModel = 1\n",
    "Dinos =  UI_LoadMyDinos(start_mydino, end_mydino, PolishRoadMathModel, LoadErrorCoef, PolishRoadMovementErrorCoef)\n",
    "\n",
    "# Загрузка уже готовых динамограмм от лафкина или Усова\n",
    "DinosUsov_Lafkin = UI_LoadDinos(start_dino, end_dino)\n",
    "\n",
    "#for Din in DinosUsov_Lafkin:\n",
    "# # #     Din.PolishRoadMovement.reverse()\n",
    "    #Din.PolishRoadMovement = Din.PolishRoadMovement[-3:] + Din.PolishRoadMovement[:-3]\n",
    "\n",
    "\n",
    "def TableShow(idx):\n",
    "    show(Dinos[idx].DinoData.MyDinoData2DinoData().TablePrint())\n",
    "\n",
    "def TableShowUsovLafkin(idx):\n",
    "    show(DinosUsov_Lafkin[idx].TablePrint())\n",
    "\n"
   ]
  },
  {
   "cell_type": "code",
   "execution_count": 5,
   "metadata": {},
   "outputs": [],
   "source": [
    "base_path_dino = base_path_dinos[1]\n",
    "def UI_LoadDinos(start, end):\n",
    "    D = [LoadDinoData(base_path_i, 2, 2) for base_path_i in GenerateSrcPathData(base_path_dino, start, end)]\n",
    "    return D\n",
    "\n",
    "Dinos_Lafkin = UI_LoadDinos(start_dino, end_dino)\n",
    "for Din in Dinos_Lafkin:\n",
    "    #Din.RavTimeGrid = [t + 0.20 for t in Din.RavTimeGrid]\n",
    "    Din.Load = [1.1*l - 0.1 for l in Din.Load]\n",
    "    \n",
    "    Din.Load = Din.Load[2:] + Din.Load[:2]\n",
    "    Din.PolishRoadMovement = Din.PolishRoadMovement[3:] + Din.PolishRoadMovement[:3]\n",
    "\n",
    "\n",
    "def TableShowLafkin(idx):\n",
    "    show(Dinos_Lafkin[idx].TablePrint())\n",
    "\n",
    "\n",
    "\n"
   ]
  },
  {
   "cell_type": "code",
   "execution_count": 6,
   "metadata": {},
   "outputs": [
    {
     "name": "stdout",
     "output_type": "stream",
     "text": [
      "Мои динамограммы \n",
      "base path =  ../tmp_data/data\n",
      "Загрузили динамограммы с  1  по  4\n"
     ]
    },
    {
     "data": {
      "application/vnd.jupyter.widget-view+json": {
       "model_id": "227a2f4176d84694b5e1785e961be875",
       "version_major": 2,
       "version_minor": 0
      },
      "text/plain": [
       "interactive(children=(IntSlider(value=1, description='idx', max=3), Output()), _dom_classes=('widget-interact'…"
      ]
     },
     "metadata": {},
     "output_type": "display_data"
    },
    {
     "name": "stdout",
     "output_type": "stream",
     "text": [
      "Динамограммы Усова\n",
      "base path =  ../tmp_data/dino_lufkin\n",
      "Загрузили динамограммы с  1  по  4\n"
     ]
    },
    {
     "data": {
      "application/vnd.jupyter.widget-view+json": {
       "model_id": "4ca20f3797954795be922ad5657ad38a",
       "version_major": 2,
       "version_minor": 0
      },
      "text/plain": [
       "interactive(children=(IntSlider(value=1, description='idx', max=3), Output()), _dom_classes=('widget-interact'…"
      ]
     },
     "metadata": {},
     "output_type": "display_data"
    },
    {
     "name": "stdout",
     "output_type": "stream",
     "text": [
      "Динамограммы Лафкин\n",
      "base path =  ../tmp_data/dino_lufkin\n",
      "Загрузили динамограммы с  1  по  4\n"
     ]
    },
    {
     "data": {
      "application/vnd.jupyter.widget-view+json": {
       "model_id": "e77a9cee534c46caa49698fe2b220920",
       "version_major": 2,
       "version_minor": 0
      },
      "text/plain": [
       "interactive(children=(IntSlider(value=1, description='idx', max=3), Output()), _dom_classes=('widget-interact'…"
      ]
     },
     "metadata": {},
     "output_type": "display_data"
    },
    {
     "data": {
      "text/plain": [
       "<function __main__.TableShowLafkin(idx)>"
      ]
     },
     "execution_count": 6,
     "metadata": {},
     "output_type": "execute_result"
    }
   ],
   "source": [
    "# Таблица усилий и перемещений \n",
    "\n",
    "print(\"Мои динамограммы \\nbase path = \", base_path)\n",
    "print(\"Загрузили динамограммы с \", start_mydino, \" по \", end_mydino)\n",
    "interact(TableShow, idx = (start_mydino-1, end_mydino-1, 1))\n",
    "\n",
    "print(\"Динамограммы Усова\\nbase path = \", base_path_dino)\n",
    "print(\"Загрузили динамограммы с \", start_dino, \" по \", end_dino)\n",
    "interact(TableShowUsovLafkin, idx = (start_dino-1, end_dino-1, 1))\n",
    "\n",
    "\n",
    "print(\"Динамограммы Лафкин\\nbase path = \", base_path_dino)\n",
    "print(\"Загрузили динамограммы с \", start_dino, \" по \", end_dino)\n",
    "interact(TableShowLafkin, idx = (start_dino-1, end_dino-1, 1))\n"
   ]
  },
  {
   "cell_type": "code",
   "execution_count": 7,
   "metadata": {},
   "outputs": [],
   "source": [
    "def PrintDinoMyAndUsov(_start_mydino, _end_mydino, start_u_l_dino, end_u_l_din, title=\"Usov Data\"):\n",
    "\n",
    "    fig = plt.figure()\n",
    "    \n",
    "    # to change size of subplot's\n",
    "    # set height of each subplot as 8\n",
    "    fig.set_figheight(7)\n",
    "    \n",
    "    # set width of each subplot as 8\n",
    "    fig.set_figwidth(15)\n",
    "    \n",
    "    # create grid for different subplots\n",
    "    spec = gridspec.GridSpec(ncols=1, nrows=1, wspace=1.0, hspace=1.0)\n",
    "    ax = fig.add_subplot(spec[0])\n",
    "    \n",
    "    ax.set_title(\"Динамограммы\")\n",
    "    ax.set_xlabel(\"Перемещение нормированное\")\n",
    "    ax.set_ylabel(\"Усилие, нормированное\")\n",
    "    line1, line2,line3 = None, None, None\n",
    "    \n",
    "    for i in range(_start_mydino, _end_mydino):\n",
    "        Dino = Dinos[i]\n",
    "        line1, = ax.plot(Dino.DinoData.PolishRoadMovement, Dino.DinoData.Load, color='red')\n",
    "        #print(\"My dino from file: \", i+1, \": \",Dino.DinoData.Load)\n",
    "\n",
    "    for i in range(start_u_l_dino, end_u_l_din):\n",
    "        line2, = ax.plot(DinosUsov_Lafkin[i].PolishRoadMovement, DinosUsov_Lafkin[i].Load, color='blue')\n",
    "    \n",
    "    \n",
    "    for i in range(start_u_l_dino, end_u_l_din):\n",
    "        Dinos_Lafkin[i].PolishRoadMovement.reverse()\n",
    "        Dinos_Lafkin[i].Load.reverse()\n",
    "        line3, = ax.plot(Dinos_Lafkin[i].PolishRoadMovement, Dinos_Lafkin[i].Load, color='green')\n",
    "    \n",
    "\n",
    "    ax.legend([line1, line2, line3], [\"Динамограмма построенная по Схеме Эйтейкена\",\"Динамограмма \" + title, \"Динамограмма Lufkin\"])\n",
    "    plt.show()\n",
    "\n",
    "\n",
    "def PrintMyFPolRoadandUsovLafkinFPolRoad(_start_mydino, _end_mydino, start_u_l_dino, end_u_l_din, title=\"Usov Data\"):\n",
    "    # create a figure\n",
    "    fig = plt.figure()\n",
    "    \n",
    "    # to change size of subplot's\n",
    "    # set height of each subplot as 8\n",
    "    fig.set_figheight(7)\n",
    "    \n",
    "    # set width of each subplot as 8\n",
    "    fig.set_figwidth(15)\n",
    "    \n",
    "    # create grid for different subplots\n",
    "    spec = gridspec.GridSpec(ncols=1, nrows=2, wspace=1.0, hspace=1.0)\n",
    "    \n",
    "    line1, line2,line3 = None, None, None\n",
    "    # initializing x,y axis value\n",
    "\n",
    "    ax0 = fig.add_subplot(spec[0])\n",
    "    ax1 = fig.add_subplot(spec[1])\n",
    "\n",
    "    # Усилие сравниваем \n",
    "    for i in range(_start_mydino, _end_mydino):\n",
    "        Dino = Dinos[i]\n",
    "        \n",
    "        line1, = ax0.plot(Dino.DinoData.RavTimeGrid, Dino.DinoData.Load, color='red')\n",
    "\n",
    "        #arr = [Dino._CalcF(Dino.DinoData.OrigData.TimeGrid[i])[0] - Dino.DinoData.OrigData.Load[i] for i in range(0, len(Dino.DinoData.OrigData.Load))]\n",
    "        \n",
    "        #for a in arr:\n",
    "        #    print('{0:.16f}'.format(a))\n",
    "        #line3, =  ax0.plot(Dino.DinoData.OrigData.TimeGrid, Dino.DinoData.OrigData.Load , 'go')\n",
    "\n",
    "    for i in range(start_u_l_dino, end_u_l_din):\n",
    "        line2, = ax0.plot(DinosUsov_Lafkin[i].RavTimeGrid, DinosUsov_Lafkin[i].Load, color='blue')\n",
    "    \n",
    "    for i in range(start_u_l_dino, end_u_l_din):\n",
    "       \n",
    "        line3, = ax0.plot(Dinos_Lafkin[i].RavTimeGrid, Dinos_Lafkin[i].Load, color='green')\n",
    "    \n",
    "    \n",
    "\n",
    "    ax0.legend([line1, line2, line3], [\"Усилие построенная по Схеме Эйтейкена\",\"Усилие из динамограмм \" + title, \"Усилие из динамограмм Lufkin\"])\n",
    "    ax0.set_xlabel(\"Время [c]\")\n",
    "    ax0.set_ylabel(\"Усилие нормированное\")\n",
    "\n",
    "    # Перемещение \n",
    "    for i in range(_start_mydino, _end_mydino):\n",
    "        Dino = Dinos[i]\n",
    "        \n",
    "        line1, = ax1.plot(Dino.DinoData.RavTimeGrid, Dino.DinoData.PolishRoadMovement, color='red')\n",
    "\n",
    "    for i in range(start_u_l_dino, end_u_l_din):\n",
    "        line2, = ax1.plot(DinosUsov_Lafkin[i].RavTimeGrid, DinosUsov_Lafkin[i].PolishRoadMovement, color='blue')\n",
    "    \n",
    "    for i in range(start_u_l_dino, end_u_l_din):\n",
    "        \n",
    "        line3, = ax1.plot(Dinos_Lafkin[i].RavTimeGrid, Dinos_Lafkin[i].PolishRoadMovement, color='green')\n",
    "    \n",
    "\n",
    "    ax1.legend([line1, line2, line3], [\"Перемещение построенная по Схеме Эйтейкена\",\"Перемещение из динамограмм \" + title, \"Перемещение из динамограмм Lufkin\"])\n",
    "    ax1.set_xlabel(\"Время [c]\")\n",
    "    ax1.set_ylabel(\"Перемещение нормированное\")\n",
    "    \n",
    "    plt.show()\n",
    "\n"
   ]
  },
  {
   "cell_type": "code",
   "execution_count": 8,
   "metadata": {},
   "outputs": [
    {
     "name": "stdout",
     "output_type": "stream",
     "text": [
      "Отобразим наложенные динамограммы мои/Усова(Лафкин)\n",
      "\n",
      "Данные взяты из папки  ../tmp_data/data\n",
      "Данные для динамограмм из папки  ../tmp_data/dino_lufkin\n"
     ]
    },
    {
     "data": {
      "application/vnd.jupyter.widget-view+json": {
       "model_id": "42fb172525364abb96140aafcb1ce491",
       "version_major": 2,
       "version_minor": 0
      },
      "text/plain": [
       "interactive(children=(IntSlider(value=0, description='_start_mydino', max=3), IntSlider(value=4, description='…"
      ]
     },
     "metadata": {},
     "output_type": "display_data"
    },
    {
     "name": "stdout",
     "output_type": "stream",
     "text": [
      "Отобразим наложенные усилия и перемещения мои/Усова(Лафкин)\n",
      "\n",
      "Данные взяты из папки  ../tmp_data/data\n",
      "Данные для динамограмм из папки  ../tmp_data/dino_lufkin\n"
     ]
    },
    {
     "data": {
      "application/vnd.jupyter.widget-view+json": {
       "model_id": "1266e7528a964aa9bf372a620f9a1d85",
       "version_major": 2,
       "version_minor": 0
      },
      "text/plain": [
       "interactive(children=(IntSlider(value=0, description='_start_mydino', max=3), IntSlider(value=4, description='…"
      ]
     },
     "metadata": {},
     "output_type": "display_data"
    },
    {
     "data": {
      "text/plain": [
       "<function __main__.PrintMyFPolRoadandUsovLafkinFPolRoad(_start_mydino, _end_mydino, start_u_l_dino, end_u_l_din, title='Usov Data')>"
      ]
     },
     "execution_count": 8,
     "metadata": {},
     "output_type": "execute_result"
    }
   ],
   "source": [
    "# Отобразим наложенные динамограммы мои/Усова(Лафкин)\n",
    "print(\"Отобразим наложенные динамограммы мои/Усова(Лафкин)\\n\")\n",
    "print(\"Данные взяты из папки \", base_path, )\n",
    "print(\"Данные для динамограмм из папки \", base_path_dino)\n",
    "interact(PrintDinoMyAndUsov,_start_mydino = IntSlider(value=0,min=start_mydino-1, max=end_mydino-1, step=1),\n",
    "                                            _end_mydino=IntSlider(value=4,min=start_mydino-1, max=end_mydino, step=1),\n",
    "                                            start_u_l_dino = IntSlider(value=0,min=start_dino-1, max=end_dino-1, step=1),\n",
    "                                            end_u_l_din= IntSlider(value=4,min=start_dino-1, max=end_dino, step=1),\n",
    "                                            title = Dropdown(options=[('Усова'), ('Lafkin')], value='Усова'))\n",
    "\n",
    "\n",
    "# Сравнение графиков усилия мои/Усова(Лафкин) и графиков перемещения мои/Усова(Лафкин)\n",
    "print(\"Отобразим наложенные усилия и перемещения мои/Усова(Лафкин)\\n\")\n",
    "print(\"Данные взяты из папки \", base_path, )\n",
    "print(\"Данные для динамограмм из папки \", base_path_dino)\n",
    "interact(PrintMyFPolRoadandUsovLafkinFPolRoad,_start_mydino = IntSlider(value=0,min=start_mydino-1, max=end_mydino-1, step=1),\n",
    "                                            _end_mydino=IntSlider(value=4,min=start_mydino-1, max=end_mydino, step=1),\n",
    "                                            start_u_l_dino = IntSlider(value=0,min=start_dino-1, max=end_dino-1, step=1),\n",
    "                                            end_u_l_din= IntSlider(value=4,min=start_dino-1, max=end_dino, step=1),\n",
    "                                            title = Dropdown(options=[('Усова'), ('Lafkin')], value='Усова'))"
   ]
  }
 ],
 "metadata": {
  "kernelspec": {
   "display_name": "Python 3",
   "language": "python",
   "name": "python3"
  },
  "language_info": {
   "codemirror_mode": {
    "name": "ipython",
    "version": 3
   },
   "file_extension": ".py",
   "mimetype": "text/x-python",
   "name": "python",
   "nbconvert_exporter": "python",
   "pygments_lexer": "ipython3",
   "version": "3.11.9"
  }
 },
 "nbformat": 4,
 "nbformat_minor": 2
}
